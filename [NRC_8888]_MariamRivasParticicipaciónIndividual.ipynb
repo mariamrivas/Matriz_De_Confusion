{
  "cells": [
    {
      "cell_type": "code",
      "execution_count": 142,
      "metadata": {
        "colab": {
          "base_uri": "https://localhost:8080/"
        },
        "id": "b0vrx4WzsOpx",
        "outputId": "98275165-d955-495d-bf79-679a32e36712"
      },
      "outputs": [
        {
          "output_type": "stream",
          "name": "stdout",
          "text": [
            "    y_Actual  y_Predicted\n",
            "0          1            1\n",
            "1          0            1\n",
            "2          0            0\n",
            "3          1            1\n",
            "4          1            1\n",
            "5          0            1\n",
            "6          1            1\n",
            "7          0            0\n",
            "8          1            1\n",
            "9          1            1\n",
            "10         1            0\n",
            "11         0            0\n",
            "12         1            1\n"
          ]
        }
      ],
      "source": [
        "#creando pandas DataFrame\n",
        "import pandas as pd\n",
        "from sklearn import metrics\n",
        "\n",
        "data = {'y_Actual':    [1, 0, 0, 1, 1, 0, 1, 0, 1, 1, 1, 0, 1],\n",
        "        'y_Predicted': [1, 1, 0, 1, 1, 1, 1, 0, 1, 1, 0, 0, 1]\n",
        "        }\n",
        "        \n",
        "df = pd.DataFrame(data, columns=['y_Actual','y_Predicted'])\n",
        "print (df)"
      ]
    },
    {
      "cell_type": "code",
      "execution_count": 143,
      "metadata": {
        "colab": {
          "base_uri": "https://localhost:8080/"
        },
        "id": "CTcyVWHgsOp0",
        "outputId": "1f2d9d63-6399-411e-b261-9fdd505680f9"
      },
      "outputs": [
        {
          "output_type": "stream",
          "name": "stdout",
          "text": [
            "Predicted  0  1\n",
            "Actual         \n",
            "0          3  2\n",
            "1          1  7\n"
          ]
        }
      ],
      "source": [
        "#Para crear la Matriz de confusión usando pandas, deberá aplicar la tabla de referencias  pd.crosstab  de la siguiente manera:\n",
        "\n",
        "confusion_matrix = pd.crosstab(df['y_Actual'], df['y_Predicted'], rownames=['Actual'], colnames=['Predicted'])\n",
        "print (confusion_matrix)\n"
      ]
    },
    {
      "cell_type": "markdown",
      "metadata": {
        "id": "C79bMWJSsOp2"
      },
      "source": [
        "# Displaying the Confusion Matrix using seaborn"
      ]
    },
    {
      "cell_type": "markdown",
      "metadata": {
        "id": "6Ieyuxv0sOp5"
      },
      "source": [
        "La matriz que acaba de crear en la sección anterior era bastante básica.\n",
        "\n",
        "Puede usar el paquete seaborn en Python para obtener una visualización más vívida de la matriz. \n",
        "Para realizar esta tarea, deberá agregar los siguientes dos componentes en el código:\n",
        "\n",
        "     importar seaborn como sn\n",
        "     sn.heatmap (confusion_matrix, annot = True)\n",
        "\n",
        "También necesitará usar el paquete matplotlib para trazar los resultados agregando:\n",
        "\n",
        "     importar matplotlib.pyplot como plt\n",
        "     plt.show ()\n",
        "\n",
        "Poniendo todo junto:"
      ]
    },
    {
      "cell_type": "code",
      "execution_count": 144,
      "metadata": {
        "colab": {
          "base_uri": "https://localhost:8080/",
          "height": 283
        },
        "id": "Hu9OY_CwsOp6",
        "outputId": "e7a4c970-e952-443e-d05b-816d89ce1cf2"
      },
      "outputs": [
        {
          "output_type": "display_data",
          "data": {
            "image/png": "[encoded data removed]",
            "text/plain": [
              "<Figure size 432x288 with 2 Axes>"
            ]
          },
          "metadata": {
            "needs_background": "light"
          }
        }
      ],
      "source": [
        "import pandas as pd\n",
        "import seaborn as sn\n",
        "import matplotlib.pyplot as plt\n",
        "\n",
        "data = {'y_Actual':    [1, 0, 0, 1, 1, 0, 1, 0, 1, 1, 1, 0, 1],\n",
        "        'y_Predicted': [1, 1, 0, 1, 1, 1, 1, 0, 1, 1, 0, 0 , 1]\n",
        "        }\n",
        "\n",
        "df = pd.DataFrame(data, columns=['y_Actual','y_Predicted'])\n",
        "confusion_matrix = pd.crosstab(df['y_Actual'], df['y_Predicted'], rownames=['Actual'], colnames=['Predicted'])\n",
        "\n",
        "sn.heatmap(confusion_matrix, annot=True)\n",
        "plt.show()"
      ]
    },
    {
      "cell_type": "code",
      "execution_count": 145,
      "metadata": {
        "colab": {
          "base_uri": "https://localhost:8080/"
        },
        "id": "762VUWunsOp7",
        "outputId": "a0ac5749-7407-4b16-b05c-2ff3b41981f4"
      },
      "outputs": [
        {
          "output_type": "stream",
          "name": "stdout",
          "text": [
            "Accuracy：\t 0.75\n",
            "Precision:\t 0.6666666666666666\n",
            "Recall:  \t 0.8\n"
          ]
        }
      ],
      "source": [
        "#Imprimir el Accuracy, Precision y el Recall.\n",
        "\n",
        "#El Accuracy nos indica el porcentaje de predicciones correctas, nos arroja un 0.75 que es un valor alto pero realmente no es tan útil.\n",
        "#Ya que cuando un conjunto de datos es poco equilibrado, no es una métrica útil.\n",
        "print('Accuracy：\\t', accuracy_score(y_Actual, y_Predicted))\n",
        "\n",
        "#El precision o precisión nos sirve para saber el porcentaje de predicciones positivas correctas, en este caso la precision es de 0.66 \n",
        "# que es una precisión medía alta. \n",
        "precision = precision_score(y_Actual, y_Predicted)\n",
        "print('Precision:\\t', precision)\n",
        " \n",
        "#El Recall o sensibilidad exahustiva nos indica el porcentaje de casos positivos detectados, nos presenta un 0.8 que es un valor bueno \n",
        "#y se podría decir que no se le escapan muchos positivos \n",
        "recall = recall_score(y_Actual, y_Predicted)\n",
        "print('Recall:  \\t', recall)  \n",
        " "
      ]
    }
  ],
  "metadata": {
    "kernelspec": {
      "display_name": "Python 3",
      "language": "python",
      "name": "python3"
    },
    "language_info": {
      "codemirror_mode": {
        "name": "ipython",
        "version": 3
      },
      "file_extension": ".py",
      "mimetype": "text/x-python",
      "name": "python",
      "nbconvert_exporter": "python",
      "pygments_lexer": "ipython3",
      "version": "3.6.10"
    },
    "colab": {
      "name": "[NRC_8888]_MariamRivasParticicipaciónIndividual",
      "provenance": [],
      "collapsed_sections": []
    }
  },
  "nbformat": 4,
  "nbformat_minor": 0
}